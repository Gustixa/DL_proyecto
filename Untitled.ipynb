{
 "cells": [
  {
   "cell_type": "markdown",
   "id": "c5b28b4c-d448-4670-9d7a-7d410ba33cb3",
   "metadata": {},
   "source": [
    "# 1. Importación de librerías y configuración inicial"
   ]
  },
  {
   "cell_type": "code",
   "execution_count": 1,
   "id": "9587bb5b-7903-4006-bceb-450dd495184b",
   "metadata": {},
   "outputs": [
    {
     "name": "stderr",
     "output_type": "stream",
     "text": [
      "C:\\Python\\Python312\\Lib\\site-packages\\tqdm\\auto.py:21: TqdmWarning: IProgress not found. Please update jupyter and ipywidgets. See https://ipywidgets.readthedocs.io/en/stable/user_install.html\n",
      "  from .autonotebook import tqdm as notebook_tqdm\n"
     ]
    }
   ],
   "source": [
    "import tensorflow as tf\n",
    "from tensorflow.keras.models import Sequential\n",
    "from tensorflow.keras.layers import Conv2D, MaxPooling2D, Flatten, Dense, Dropout\n",
    "from tensorflow.keras.preprocessing.image import ImageDataGenerator\n",
    "import pandas as pd\n",
    "from sklearn.model_selection import train_test_split\n",
    "from tensorflow.keras.callbacks import TensorBoard, ReduceLROnPlateau\n",
    "import datetime\n",
    "import numpy as np\n",
    "import cv2\n",
    "import matplotlib.pyplot as plt\n",
    "import shap"
   ]
  },
  {
   "cell_type": "markdown",
   "id": "ccf95f1f-6b72-43fc-9630-8d1d5c8abb98",
   "metadata": {},
   "source": [
    "Esta sección importa todas las bibliotecas necesarias para el modelo, la manipulación de datos, el preprocesamiento de imágenes, la visualización de resultados y la generación de explicaciones con SHAP. Cada una cumple su función:\n",
    "\n",
    "- tensorflow y keras: Para definir el modelo de red neuronal y las capas de la arquitectura.\n",
    "- pandas y sklearn: Para manejar y dividir los datos.\n",
    "- datetime y TensorBoard: Para registrar los resultados del entrenamiento y monitorear el rendimiento.\n",
    "- cv2, matplotlib, y shap: Para visualización y explicaciones con SHAP."
   ]
  },
  {
   "cell_type": "markdown",
   "id": "487e5f26-83b2-4ca8-a0ca-5e55b8f30e56",
   "metadata": {},
   "source": [
    "# 2. Preparación de los datos, etiquetas y definicion de clases"
   ]
  },
  {
   "cell_type": "code",
   "execution_count": 2,
   "id": "fd2005d4-b047-48cc-aebf-17ac5ad59691",
   "metadata": {},
   "outputs": [],
   "source": [
    "# Cargar y preparar los datos\n",
    "data = pd.read_csv(\"phase2_train_v0.csv\")\n",
    "data['image_path'] = \"./phase2_train_v0/final/\" + data['img_fName']\n",
    "\n",
    "# Diccionario que asocia cada clase con el nombre de la especie\n",
    "class_names = {\n",
    "    0: \"albopictus\",\n",
    "    1: \"culex\",\n",
    "    2: \"anopheles\",\n",
    "    3: \"culiseta\",\n",
    "    4: \"japonicus/koreicus\",\n",
    "    5: \"aegypti\"\n",
    "}"
   ]
  },
  {
   "cell_type": "markdown",
   "id": "ff0e7a95-aa5e-4bb2-a818-c88437b7084c",
   "metadata": {},
   "source": [
    "Se carga un archivo CSV que contiene información de las imágenes, como las etiquetas de clase. Se agrega una nueva columna image_path que contiene\n",
    "la ruta completa de cada imagen, necesaria para el flujo de trabajo de ImageDataGenerator.\n",
    "\n",
    "Este diccionario asocia cada etiqueta numérica (0, 1, 2, etc.) con el nombre de la especie correspondiente. Esto ayuda a que el modelo traduzca una predicción numérica en el nombre de la especie."
   ]
  },
  {
   "cell_type": "markdown",
   "id": "a352070f-acbd-4cac-bf56-cf9e9d1904cf",
   "metadata": {},
   "source": [
    "# 3. División y balanceo de datos"
   ]
  },
  {
   "cell_type": "code",
   "execution_count": 3,
   "id": "ca675f9d-6791-4b0e-bc54-e6a74d2e374e",
   "metadata": {},
   "outputs": [],
   "source": [
    "# Crear listas de DataFrames, cada una correspondiente a una clase\n",
    "class_dfs = [data[data['class_label'] == label] for label in data['class_label'].unique()]\n",
    "# Dividir el 80% de cada clase para entrenamiento y 20% para validación\n",
    "train_dfs = []\n",
    "val_dfs = []\n",
    "for class_df in class_dfs:\n",
    "    train_class_df, val_class_df = train_test_split(class_df, test_size=0.2, random_state=42)\n",
    "    train_dfs.append(train_class_df)\n",
    "    val_dfs.append(val_class_df)\n",
    "\n",
    "# Concatenar los DataFrames de entrenamiento y validación\n",
    "train_data = pd.concat(train_dfs).reset_index(drop=True)\n",
    "val_data = pd.concat(val_dfs).reset_index(drop=True)\n"
   ]
  },
  {
   "cell_type": "markdown",
   "id": "2e0f141e-dbab-4cc9-9768-198ecd25ca89",
   "metadata": {},
   "source": [
    "Aquí se asegura que cada clase se divida en 80% para entrenamiento y 20% para validación. Esto es importante para asegurar \n",
    "que todas las clases estén representadas de manera uniforme en ambos conjuntos."
   ]
  },
  {
   "cell_type": "markdown",
   "id": "385856a8-0767-498f-b433-622040c744a9",
   "metadata": {},
   "source": [
    "# 4. Generadores de datos con aumentación"
   ]
  },
  {
   "cell_type": "code",
   "execution_count": 4,
   "id": "ec52dcce-1a42-4b39-b987-50c20580cf95",
   "metadata": {},
   "outputs": [],
   "source": [
    "# Configurar ImageDataGenerator con aumento de datos para las clases minoritarias\n",
    "datagen_train = ImageDataGenerator(\n",
    "    rescale=1.0/255,\n",
    "    rotation_range=20,\n",
    "    width_shift_range=0.2,\n",
    "    height_shift_range=0.2,\n",
    "    shear_range=0.2,\n",
    "    zoom_range=0.2,\n",
    "    horizontal_flip=True,\n",
    "    fill_mode='nearest'\n",
    ")\n",
    "datagen_val = ImageDataGenerator(rescale=1.0/255)\n"
   ]
  },
  {
   "cell_type": "markdown",
   "id": "5e2adc84-7068-4cda-aab2-501a777ad17c",
   "metadata": {},
   "source": [
    "- datagen_train es el generador de datos para el conjunto de entrenamiento. Realiza aumentación para crear variaciones en las imágenes y ayudar al modelo a generalizar mejor, aplicando transformaciones como rotación, desplazamiento y zoom.\n",
    "- datagen_val solo aplica un escalado (rescale) para normalizar las imágenes en el conjunto de validación sin aumentación."
   ]
  },
  {
   "cell_type": "markdown",
   "id": "a0293a92-ae3c-4bfc-b19a-d33d5a83a3ee",
   "metadata": {},
   "source": [
    "# 5. Creación de generadores de entrenamiento y validación"
   ]
  },
  {
   "cell_type": "code",
   "execution_count": 5,
   "id": "98f14c8f-4e54-442d-8314-78b73d0252e0",
   "metadata": {},
   "outputs": [
    {
     "name": "stdout",
     "output_type": "stream",
     "text": [
      "Found 8283 validated image filenames belonging to 6 classes.\n"
     ]
    }
   ],
   "source": [
    "# Crear generador de entrenamiento con aumento de datos\n",
    "train_generator = datagen_train.flow_from_dataframe(\n",
    "    dataframe=train_data,\n",
    "    x_col='image_path',\n",
    "    y_col='class_label',\n",
    "    target_size=(128, 128),\n",
    "    class_mode='categorical',\n",
    "    batch_size=32,\n",
    "    subset=None  # No subset here since we're manually splitting data\n",
    ")"
   ]
  },
  {
   "cell_type": "code",
   "execution_count": 6,
   "id": "dc298a37-33bf-4303-8222-80c21f538023",
   "metadata": {},
   "outputs": [
    {
     "name": "stdout",
     "output_type": "stream",
     "text": [
      "Found 2074 validated image filenames belonging to 6 classes.\n"
     ]
    }
   ],
   "source": [
    "# Crear generador de validación sin aumento de datos\n",
    "validation_generator = datagen_val.flow_from_dataframe(\n",
    "    dataframe=val_data,\n",
    "    x_col='image_path',\n",
    "    y_col='class_label',\n",
    "    target_size=(128, 128),\n",
    "    class_mode='categorical',\n",
    "    batch_size=32,\n",
    "    subset=None\n",
    ")"
   ]
  },
  {
   "cell_type": "markdown",
   "id": "d7367062-d3fa-4171-87fa-e8cfe4c7aed9",
   "metadata": {},
   "source": [
    "Aquí se crean los generadores de datos para entrenamiento y validación. flow_from_dataframe carga las imágenes directamente desde las rutas especificadas en image_path, ajusta el tamaño a (128, 128) y transforma las etiquetas en categorías."
   ]
  },
  {
   "cell_type": "markdown",
   "id": "373907a4-b104-4429-840b-88b6bb7d7f6e",
   "metadata": {},
   "source": [
    "# 6. Definición del modelo CNN"
   ]
  },
  {
   "cell_type": "code",
   "execution_count": 7,
   "id": "3c16e8ff-9c16-43fd-b069-49383cf80fd7",
   "metadata": {},
   "outputs": [
    {
     "name": "stderr",
     "output_type": "stream",
     "text": [
      "C:\\Python\\Python312\\Lib\\site-packages\\keras\\src\\layers\\convolutional\\base_conv.py:107: UserWarning: Do not pass an `input_shape`/`input_dim` argument to a layer. When using Sequential models, prefer using an `Input(shape)` object as the first layer in the model instead.\n",
      "  super().__init__(activity_regularizer=activity_regularizer, **kwargs)\n"
     ]
    }
   ],
   "source": [
    "# Definir el modelo CNN\n",
    "model = Sequential([\n",
    "    Conv2D(32, (3, 3), activation='relu', input_shape=(128, 128, 3)),\n",
    "    MaxPooling2D(pool_size=(2, 2)),\n",
    "    Conv2D(64, (3, 3), activation='relu'),\n",
    "    MaxPooling2D(pool_size=(2, 2)),\n",
    "    Conv2D(128, (3, 3), activation='relu', name=\"last_conv_layer\"),\n",
    "    MaxPooling2D(pool_size=(2, 2)),\n",
    "    Flatten(),\n",
    "    Dense(128, activation='relu'),\n",
    "    Dropout(0.5),\n",
    "    Dense(6, activation='softmax')  # 6 clases de especies de mosquitos\n",
    "])"
   ]
  },
  {
   "cell_type": "markdown",
   "id": "55d0a3cf-59a9-4ec3-a0c5-beccb47e4884",
   "metadata": {},
   "source": [
    "Explicación de cada capa:\n",
    "- Conv2D: Capas convolucionales con filtros (32, 64, 128) que aprenden características espaciales.\n",
    "- MaxPooling2D: Reduce la dimensionalidad espacial (tamaño de la imagen), lo que permite un procesamiento más rápido y menos sobreajuste.\n",
    "- Flatten: Convierte la salida de las capas convolucionales en una dimensión plana.\n",
    "- Dense(128): Capa densa con 128 unidades y activación ReLU para aprender patrones no lineales.\n",
    "- Dropout(0.5): Ayuda a prevenir el sobreajuste al ignorar el 50% de las unidades en cada pasada.\n",
    "- Dense(6): La capa final de salida, con softmax para clasificar entre las 6 especies de mosquitos."
   ]
  },
  {
   "cell_type": "code",
   "execution_count": 8,
   "id": "14b4030c-1df0-4d74-abcd-2847a5ef8be2",
   "metadata": {},
   "outputs": [],
   "source": [
    "# Asignar el diccionario de nombres de clase al modelo\n",
    "model.class_names = class_names"
   ]
  },
  {
   "cell_type": "markdown",
   "id": "df51580b-8ed4-4ed8-8c6e-65611189df56",
   "metadata": {},
   "source": [
    "# 7. Compilación del modelo"
   ]
  },
  {
   "cell_type": "code",
   "execution_count": 9,
   "id": "02fa3683-366f-4362-a8b0-2804e6473726",
   "metadata": {},
   "outputs": [],
   "source": [
    "# Compilar el modelo\n",
    "model.compile(optimizer='adam', loss='categorical_crossentropy', metrics=['accuracy'])\n"
   ]
  },
  {
   "cell_type": "markdown",
   "id": "10d8a800-5b95-42bf-8f4f-6ea44b12da6a",
   "metadata": {},
   "source": [
    "Se utiliza el optimizador Adam, la función de pérdida categorical_crossentropy (para clasificación multiclase) y accuracy como métrica."
   ]
  },
  {
   "cell_type": "code",
   "execution_count": 10,
   "id": "452d87aa-c359-4113-8430-2e16ea4b1322",
   "metadata": {},
   "outputs": [
    {
     "data": {
      "text/html": [
       "<pre style=\"white-space:pre;overflow-x:auto;line-height:normal;font-family:Menlo,'DejaVu Sans Mono',consolas,'Courier New',monospace\"><span style=\"font-weight: bold\">Model: \"sequential\"</span>\n",
       "</pre>\n"
      ],
      "text/plain": [
       "\u001b[1mModel: \"sequential\"\u001b[0m\n"
      ]
     },
     "metadata": {},
     "output_type": "display_data"
    },
    {
     "data": {
      "text/html": [
       "<pre style=\"white-space:pre;overflow-x:auto;line-height:normal;font-family:Menlo,'DejaVu Sans Mono',consolas,'Courier New',monospace\">┏━━━━━━━━━━━━━━━━━━━━━━━━━━━━━━━━━━━━━━┳━━━━━━━━━━━━━━━━━━━━━━━━━━━━━┳━━━━━━━━━━━━━━━━━┓\n",
       "┃<span style=\"font-weight: bold\"> Layer (type)                         </span>┃<span style=\"font-weight: bold\"> Output Shape                </span>┃<span style=\"font-weight: bold\">         Param # </span>┃\n",
       "┡━━━━━━━━━━━━━━━━━━━━━━━━━━━━━━━━━━━━━━╇━━━━━━━━━━━━━━━━━━━━━━━━━━━━━╇━━━━━━━━━━━━━━━━━┩\n",
       "│ conv2d (<span style=\"color: #0087ff; text-decoration-color: #0087ff\">Conv2D</span>)                      │ (<span style=\"color: #00d7ff; text-decoration-color: #00d7ff\">None</span>, <span style=\"color: #00af00; text-decoration-color: #00af00\">126</span>, <span style=\"color: #00af00; text-decoration-color: #00af00\">126</span>, <span style=\"color: #00af00; text-decoration-color: #00af00\">32</span>)        │             <span style=\"color: #00af00; text-decoration-color: #00af00\">896</span> │\n",
       "├──────────────────────────────────────┼─────────────────────────────┼─────────────────┤\n",
       "│ max_pooling2d (<span style=\"color: #0087ff; text-decoration-color: #0087ff\">MaxPooling2D</span>)         │ (<span style=\"color: #00d7ff; text-decoration-color: #00d7ff\">None</span>, <span style=\"color: #00af00; text-decoration-color: #00af00\">63</span>, <span style=\"color: #00af00; text-decoration-color: #00af00\">63</span>, <span style=\"color: #00af00; text-decoration-color: #00af00\">32</span>)          │               <span style=\"color: #00af00; text-decoration-color: #00af00\">0</span> │\n",
       "├──────────────────────────────────────┼─────────────────────────────┼─────────────────┤\n",
       "│ conv2d_1 (<span style=\"color: #0087ff; text-decoration-color: #0087ff\">Conv2D</span>)                    │ (<span style=\"color: #00d7ff; text-decoration-color: #00d7ff\">None</span>, <span style=\"color: #00af00; text-decoration-color: #00af00\">61</span>, <span style=\"color: #00af00; text-decoration-color: #00af00\">61</span>, <span style=\"color: #00af00; text-decoration-color: #00af00\">64</span>)          │          <span style=\"color: #00af00; text-decoration-color: #00af00\">18,496</span> │\n",
       "├──────────────────────────────────────┼─────────────────────────────┼─────────────────┤\n",
       "│ max_pooling2d_1 (<span style=\"color: #0087ff; text-decoration-color: #0087ff\">MaxPooling2D</span>)       │ (<span style=\"color: #00d7ff; text-decoration-color: #00d7ff\">None</span>, <span style=\"color: #00af00; text-decoration-color: #00af00\">30</span>, <span style=\"color: #00af00; text-decoration-color: #00af00\">30</span>, <span style=\"color: #00af00; text-decoration-color: #00af00\">64</span>)          │               <span style=\"color: #00af00; text-decoration-color: #00af00\">0</span> │\n",
       "├──────────────────────────────────────┼─────────────────────────────┼─────────────────┤\n",
       "│ last_conv_layer (<span style=\"color: #0087ff; text-decoration-color: #0087ff\">Conv2D</span>)             │ (<span style=\"color: #00d7ff; text-decoration-color: #00d7ff\">None</span>, <span style=\"color: #00af00; text-decoration-color: #00af00\">28</span>, <span style=\"color: #00af00; text-decoration-color: #00af00\">28</span>, <span style=\"color: #00af00; text-decoration-color: #00af00\">128</span>)         │          <span style=\"color: #00af00; text-decoration-color: #00af00\">73,856</span> │\n",
       "├──────────────────────────────────────┼─────────────────────────────┼─────────────────┤\n",
       "│ max_pooling2d_2 (<span style=\"color: #0087ff; text-decoration-color: #0087ff\">MaxPooling2D</span>)       │ (<span style=\"color: #00d7ff; text-decoration-color: #00d7ff\">None</span>, <span style=\"color: #00af00; text-decoration-color: #00af00\">14</span>, <span style=\"color: #00af00; text-decoration-color: #00af00\">14</span>, <span style=\"color: #00af00; text-decoration-color: #00af00\">128</span>)         │               <span style=\"color: #00af00; text-decoration-color: #00af00\">0</span> │\n",
       "├──────────────────────────────────────┼─────────────────────────────┼─────────────────┤\n",
       "│ flatten (<span style=\"color: #0087ff; text-decoration-color: #0087ff\">Flatten</span>)                    │ (<span style=\"color: #00d7ff; text-decoration-color: #00d7ff\">None</span>, <span style=\"color: #00af00; text-decoration-color: #00af00\">25088</span>)               │               <span style=\"color: #00af00; text-decoration-color: #00af00\">0</span> │\n",
       "├──────────────────────────────────────┼─────────────────────────────┼─────────────────┤\n",
       "│ dense (<span style=\"color: #0087ff; text-decoration-color: #0087ff\">Dense</span>)                        │ (<span style=\"color: #00d7ff; text-decoration-color: #00d7ff\">None</span>, <span style=\"color: #00af00; text-decoration-color: #00af00\">128</span>)                 │       <span style=\"color: #00af00; text-decoration-color: #00af00\">3,211,392</span> │\n",
       "├──────────────────────────────────────┼─────────────────────────────┼─────────────────┤\n",
       "│ dropout (<span style=\"color: #0087ff; text-decoration-color: #0087ff\">Dropout</span>)                    │ (<span style=\"color: #00d7ff; text-decoration-color: #00d7ff\">None</span>, <span style=\"color: #00af00; text-decoration-color: #00af00\">128</span>)                 │               <span style=\"color: #00af00; text-decoration-color: #00af00\">0</span> │\n",
       "├──────────────────────────────────────┼─────────────────────────────┼─────────────────┤\n",
       "│ dense_1 (<span style=\"color: #0087ff; text-decoration-color: #0087ff\">Dense</span>)                      │ (<span style=\"color: #00d7ff; text-decoration-color: #00d7ff\">None</span>, <span style=\"color: #00af00; text-decoration-color: #00af00\">6</span>)                   │             <span style=\"color: #00af00; text-decoration-color: #00af00\">774</span> │\n",
       "└──────────────────────────────────────┴─────────────────────────────┴─────────────────┘\n",
       "</pre>\n"
      ],
      "text/plain": [
       "┏━━━━━━━━━━━━━━━━━━━━━━━━━━━━━━━━━━━━━━┳━━━━━━━━━━━━━━━━━━━━━━━━━━━━━┳━━━━━━━━━━━━━━━━━┓\n",
       "┃\u001b[1m \u001b[0m\u001b[1mLayer (type)                        \u001b[0m\u001b[1m \u001b[0m┃\u001b[1m \u001b[0m\u001b[1mOutput Shape               \u001b[0m\u001b[1m \u001b[0m┃\u001b[1m \u001b[0m\u001b[1m        Param #\u001b[0m\u001b[1m \u001b[0m┃\n",
       "┡━━━━━━━━━━━━━━━━━━━━━━━━━━━━━━━━━━━━━━╇━━━━━━━━━━━━━━━━━━━━━━━━━━━━━╇━━━━━━━━━━━━━━━━━┩\n",
       "│ conv2d (\u001b[38;5;33mConv2D\u001b[0m)                      │ (\u001b[38;5;45mNone\u001b[0m, \u001b[38;5;34m126\u001b[0m, \u001b[38;5;34m126\u001b[0m, \u001b[38;5;34m32\u001b[0m)        │             \u001b[38;5;34m896\u001b[0m │\n",
       "├──────────────────────────────────────┼─────────────────────────────┼─────────────────┤\n",
       "│ max_pooling2d (\u001b[38;5;33mMaxPooling2D\u001b[0m)         │ (\u001b[38;5;45mNone\u001b[0m, \u001b[38;5;34m63\u001b[0m, \u001b[38;5;34m63\u001b[0m, \u001b[38;5;34m32\u001b[0m)          │               \u001b[38;5;34m0\u001b[0m │\n",
       "├──────────────────────────────────────┼─────────────────────────────┼─────────────────┤\n",
       "│ conv2d_1 (\u001b[38;5;33mConv2D\u001b[0m)                    │ (\u001b[38;5;45mNone\u001b[0m, \u001b[38;5;34m61\u001b[0m, \u001b[38;5;34m61\u001b[0m, \u001b[38;5;34m64\u001b[0m)          │          \u001b[38;5;34m18,496\u001b[0m │\n",
       "├──────────────────────────────────────┼─────────────────────────────┼─────────────────┤\n",
       "│ max_pooling2d_1 (\u001b[38;5;33mMaxPooling2D\u001b[0m)       │ (\u001b[38;5;45mNone\u001b[0m, \u001b[38;5;34m30\u001b[0m, \u001b[38;5;34m30\u001b[0m, \u001b[38;5;34m64\u001b[0m)          │               \u001b[38;5;34m0\u001b[0m │\n",
       "├──────────────────────────────────────┼─────────────────────────────┼─────────────────┤\n",
       "│ last_conv_layer (\u001b[38;5;33mConv2D\u001b[0m)             │ (\u001b[38;5;45mNone\u001b[0m, \u001b[38;5;34m28\u001b[0m, \u001b[38;5;34m28\u001b[0m, \u001b[38;5;34m128\u001b[0m)         │          \u001b[38;5;34m73,856\u001b[0m │\n",
       "├──────────────────────────────────────┼─────────────────────────────┼─────────────────┤\n",
       "│ max_pooling2d_2 (\u001b[38;5;33mMaxPooling2D\u001b[0m)       │ (\u001b[38;5;45mNone\u001b[0m, \u001b[38;5;34m14\u001b[0m, \u001b[38;5;34m14\u001b[0m, \u001b[38;5;34m128\u001b[0m)         │               \u001b[38;5;34m0\u001b[0m │\n",
       "├──────────────────────────────────────┼─────────────────────────────┼─────────────────┤\n",
       "│ flatten (\u001b[38;5;33mFlatten\u001b[0m)                    │ (\u001b[38;5;45mNone\u001b[0m, \u001b[38;5;34m25088\u001b[0m)               │               \u001b[38;5;34m0\u001b[0m │\n",
       "├──────────────────────────────────────┼─────────────────────────────┼─────────────────┤\n",
       "│ dense (\u001b[38;5;33mDense\u001b[0m)                        │ (\u001b[38;5;45mNone\u001b[0m, \u001b[38;5;34m128\u001b[0m)                 │       \u001b[38;5;34m3,211,392\u001b[0m │\n",
       "├──────────────────────────────────────┼─────────────────────────────┼─────────────────┤\n",
       "│ dropout (\u001b[38;5;33mDropout\u001b[0m)                    │ (\u001b[38;5;45mNone\u001b[0m, \u001b[38;5;34m128\u001b[0m)                 │               \u001b[38;5;34m0\u001b[0m │\n",
       "├──────────────────────────────────────┼─────────────────────────────┼─────────────────┤\n",
       "│ dense_1 (\u001b[38;5;33mDense\u001b[0m)                      │ (\u001b[38;5;45mNone\u001b[0m, \u001b[38;5;34m6\u001b[0m)                   │             \u001b[38;5;34m774\u001b[0m │\n",
       "└──────────────────────────────────────┴─────────────────────────────┴─────────────────┘\n"
      ]
     },
     "metadata": {},
     "output_type": "display_data"
    },
    {
     "data": {
      "text/html": [
       "<pre style=\"white-space:pre;overflow-x:auto;line-height:normal;font-family:Menlo,'DejaVu Sans Mono',consolas,'Courier New',monospace\"><span style=\"font-weight: bold\"> Total params: </span><span style=\"color: #00af00; text-decoration-color: #00af00\">3,305,414</span> (12.61 MB)\n",
       "</pre>\n"
      ],
      "text/plain": [
       "\u001b[1m Total params: \u001b[0m\u001b[38;5;34m3,305,414\u001b[0m (12.61 MB)\n"
      ]
     },
     "metadata": {},
     "output_type": "display_data"
    },
    {
     "data": {
      "text/html": [
       "<pre style=\"white-space:pre;overflow-x:auto;line-height:normal;font-family:Menlo,'DejaVu Sans Mono',consolas,'Courier New',monospace\"><span style=\"font-weight: bold\"> Trainable params: </span><span style=\"color: #00af00; text-decoration-color: #00af00\">3,305,414</span> (12.61 MB)\n",
       "</pre>\n"
      ],
      "text/plain": [
       "\u001b[1m Trainable params: \u001b[0m\u001b[38;5;34m3,305,414\u001b[0m (12.61 MB)\n"
      ]
     },
     "metadata": {},
     "output_type": "display_data"
    },
    {
     "data": {
      "text/html": [
       "<pre style=\"white-space:pre;overflow-x:auto;line-height:normal;font-family:Menlo,'DejaVu Sans Mono',consolas,'Courier New',monospace\"><span style=\"font-weight: bold\"> Non-trainable params: </span><span style=\"color: #00af00; text-decoration-color: #00af00\">0</span> (0.00 B)\n",
       "</pre>\n"
      ],
      "text/plain": [
       "\u001b[1m Non-trainable params: \u001b[0m\u001b[38;5;34m0\u001b[0m (0.00 B)\n"
      ]
     },
     "metadata": {},
     "output_type": "display_data"
    }
   ],
   "source": [
    "# Verificar la arquitectura del modelo\n",
    "model.summary()"
   ]
  },
  {
   "cell_type": "markdown",
   "id": "8964ceaf-431b-4924-bddd-50dee7f53f63",
   "metadata": {},
   "source": [
    "# 8. Callbacks"
   ]
  },
  {
   "cell_type": "code",
   "execution_count": 11,
   "id": "fd88f0a0-b25d-4dfa-bd86-251b2cc22b20",
   "metadata": {},
   "outputs": [],
   "source": [
    "# Configurar el callback de TensorBoard\n",
    "log_dir = \"logs/fit/\" + datetime.datetime.now().strftime(\"%Y%m%d-%H%M%S\")\n",
    "tensorboard_callback = TensorBoard(log_dir=log_dir, histogram_freq=1)\n"
   ]
  },
  {
   "cell_type": "code",
   "execution_count": 12,
   "id": "d7f4190f-7b46-4eb8-a23f-d3030d3249ac",
   "metadata": {},
   "outputs": [],
   "source": [
    "# Crear el callback para reducir la tasa de aprendizaje cuando la validación no mejore\n",
    "reduce_lr = ReduceLROnPlateau(monitor='val_loss', factor=0.5, patience=3, min_lr=1e-6)\n"
   ]
  },
  {
   "cell_type": "markdown",
   "id": "5cb40732-baaf-426c-b64e-2c1d076d088d",
   "metadata": {},
   "source": [
    "- TensorBoard: Para visualizar el entrenamiento en tiempo real.\n",
    "- ReduceLROnPlateau: Disminuye la tasa de aprendizaje si la pérdida de validación no mejora durante 3 épocas."
   ]
  },
  {
   "cell_type": "markdown",
   "id": "d7719e4f-1a98-4b59-85ae-24aec64c273b",
   "metadata": {},
   "source": [
    "# 9. Entrenamiento y evaluación del modelo"
   ]
  },
  {
   "cell_type": "code",
   "execution_count": 13,
   "id": "6f13cdca-0731-4081-a894-1bea2c500392",
   "metadata": {},
   "outputs": [
    {
     "name": "stdout",
     "output_type": "stream",
     "text": [
      "Epoch 1/10\n"
     ]
    },
    {
     "name": "stderr",
     "output_type": "stream",
     "text": [
      "C:\\Python\\Python312\\Lib\\site-packages\\keras\\src\\trainers\\data_adapters\\py_dataset_adapter.py:122: UserWarning: Your `PyDataset` class should call `super().__init__(**kwargs)` in its constructor. `**kwargs` can include `workers`, `use_multiprocessing`, `max_queue_size`. Do not pass these arguments to `fit()`, as they will be ignored.\n",
      "  self._warn_if_super_not_called()\n"
     ]
    },
    {
     "name": "stdout",
     "output_type": "stream",
     "text": [
      "\u001b[1m128/259\u001b[0m \u001b[32m━━━━━━━━━\u001b[0m\u001b[37m━━━━━━━━━━━\u001b[0m \u001b[1m2:41\u001b[0m 1s/step - accuracy: 0.4471 - loss: 1.2127"
     ]
    },
    {
     "name": "stderr",
     "output_type": "stream",
     "text": [
      "C:\\Python\\Python312\\Lib\\site-packages\\PIL\\Image.py:3368: DecompressionBombWarning: Image size (108000000 pixels) exceeds limit of 89478485 pixels, could be decompression bomb DOS attack.\n",
      "  warnings.warn(\n"
     ]
    },
    {
     "name": "stdout",
     "output_type": "stream",
     "text": [
      "\u001b[1m259/259\u001b[0m \u001b[32m━━━━━━━━━━━━━━━━━━━━\u001b[0m\u001b[37m\u001b[0m \u001b[1m412s\u001b[0m 2s/step - accuracy: 0.4516 - loss: 1.1802 - val_accuracy: 0.4605 - val_loss: 1.1033 - learning_rate: 0.0010\n",
      "Epoch 2/10\n",
      "\u001b[1m259/259\u001b[0m \u001b[32m━━━━━━━━━━━━━━━━━━━━\u001b[0m\u001b[37m\u001b[0m \u001b[1m412s\u001b[0m 2s/step - accuracy: 0.4473 - loss: 1.1159 - val_accuracy: 0.4450 - val_loss: 1.0919 - learning_rate: 0.0010\n",
      "Epoch 3/10\n",
      "\u001b[1m259/259\u001b[0m \u001b[32m━━━━━━━━━━━━━━━━━━━━\u001b[0m\u001b[37m\u001b[0m \u001b[1m405s\u001b[0m 2s/step - accuracy: 0.4431 - loss: 1.1132 - val_accuracy: 0.4769 - val_loss: 1.0876 - learning_rate: 0.0010\n",
      "Epoch 4/10\n",
      "\u001b[1m259/259\u001b[0m \u001b[32m━━━━━━━━━━━━━━━━━━━━\u001b[0m\u001b[37m\u001b[0m \u001b[1m387s\u001b[0m 1s/step - accuracy: 0.4471 - loss: 1.1025 - val_accuracy: 0.5333 - val_loss: 1.1143 - learning_rate: 0.0010\n",
      "Epoch 5/10\n",
      "\u001b[1m259/259\u001b[0m \u001b[32m━━━━━━━━━━━━━━━━━━━━\u001b[0m\u001b[37m\u001b[0m \u001b[1m401s\u001b[0m 2s/step - accuracy: 0.4831 - loss: 1.0911 - val_accuracy: 0.5767 - val_loss: 1.0701 - learning_rate: 0.0010\n",
      "Epoch 6/10\n",
      "\u001b[1m259/259\u001b[0m \u001b[32m━━━━━━━━━━━━━━━━━━━━\u001b[0m\u001b[37m\u001b[0m \u001b[1m406s\u001b[0m 2s/step - accuracy: 0.5245 - loss: 1.0870 - val_accuracy: 0.5593 - val_loss: 1.1096 - learning_rate: 0.0010\n",
      "Epoch 7/10\n",
      "\u001b[1m259/259\u001b[0m \u001b[32m━━━━━━━━━━━━━━━━━━━━\u001b[0m\u001b[37m\u001b[0m \u001b[1m397s\u001b[0m 2s/step - accuracy: 0.5542 - loss: 1.0665 - val_accuracy: 0.5444 - val_loss: 1.2658 - learning_rate: 0.0010\n",
      "Epoch 8/10\n",
      "\u001b[1m259/259\u001b[0m \u001b[32m━━━━━━━━━━━━━━━━━━━━\u001b[0m\u001b[37m\u001b[0m \u001b[1m406s\u001b[0m 2s/step - accuracy: 0.5760 - loss: 1.0397 - val_accuracy: 0.5771 - val_loss: 1.1219 - learning_rate: 0.0010\n",
      "Epoch 9/10\n",
      "\u001b[1m259/259\u001b[0m \u001b[32m━━━━━━━━━━━━━━━━━━━━\u001b[0m\u001b[37m\u001b[0m \u001b[1m406s\u001b[0m 2s/step - accuracy: 0.6334 - loss: 0.9838 - val_accuracy: 0.5906 - val_loss: 1.0620 - learning_rate: 5.0000e-04\n",
      "Epoch 10/10\n",
      "\u001b[1m259/259\u001b[0m \u001b[32m━━━━━━━━━━━━━━━━━━━━\u001b[0m\u001b[37m\u001b[0m \u001b[1m385s\u001b[0m 1s/step - accuracy: 0.6646 - loss: 0.9286 - val_accuracy: 0.5858 - val_loss: 1.0587 - learning_rate: 5.0000e-04\n"
     ]
    }
   ],
   "source": [
    "# Entrenar el modelo con el callback de reducción de tasa de aprendizaje\n",
    "history = model.fit(\n",
    "    train_generator,\n",
    "    epochs=10,\n",
    "    validation_data=validation_generator,\n",
    "    callbacks=[tensorboard_callback, reduce_lr]\n",
    ")\n"
   ]
  },
  {
   "cell_type": "code",
   "execution_count": 14,
   "id": "3410d7bb-f8f7-460e-8709-ad98d6e99421",
   "metadata": {},
   "outputs": [
    {
     "name": "stdout",
     "output_type": "stream",
     "text": [
      "\u001b[1m65/65\u001b[0m \u001b[32m━━━━━━━━━━━━━━━━━━━━\u001b[0m\u001b[37m\u001b[0m \u001b[1m65s\u001b[0m 1s/step - accuracy: 0.5883 - loss: 1.0344\n",
      "Accuracy: 0.5858244895935059\n"
     ]
    }
   ],
   "source": [
    "# Evaluar el modelo\n",
    "loss, accuracy = model.evaluate(validation_generator)\n",
    "print(f'Accuracy: {accuracy}')"
   ]
  },
  {
   "cell_type": "markdown",
   "id": "a13d0c81-326d-4d1c-b666-c008ba3d710a",
   "metadata": {},
   "source": [
    "El modelo se entrena por 10 épocas y se evalúa en el conjunto de validación."
   ]
  },
  {
   "cell_type": "markdown",
   "id": "9a4dad29-24df-4979-92cd-7c7c84cffd0a",
   "metadata": {},
   "source": [
    "# 10. Guardado del modelo"
   ]
  },
  {
   "cell_type": "code",
   "execution_count": 15,
   "id": "30dc016a-f8db-4f65-acfa-b7a55ee89c8d",
   "metadata": {},
   "outputs": [
    {
     "name": "stderr",
     "output_type": "stream",
     "text": [
      "WARNING:absl:You are saving your model as an HDF5 file via `model.save()` or `keras.saving.save_model(model)`. This file format is considered legacy. We recommend using instead the native Keras format, e.g. `model.save('my_model.keras')` or `keras.saving.save_model(model, 'my_model.keras')`. \n"
     ]
    }
   ],
   "source": [
    "# Guardar el modelo en un archivo .h5\n",
    "model.save(\"modelo_mosquitos.h5\")\n"
   ]
  },
  {
   "cell_type": "code",
   "execution_count": 16,
   "id": "ffc74b6e-abbb-44ea-9251-1f2e15265fe7",
   "metadata": {},
   "outputs": [],
   "source": [
    "# Cargar y preprocesar una imagen\n",
    "def preprocess_image(img_path, target_size=(128, 128)):\n",
    "    img = tf.keras.preprocessing.image.load_img(img_path, target_size=target_size)\n",
    "    img_array = tf.keras.preprocessing.image.img_to_array(img) / 255.0  # Normalizar\n",
    "    img_array = np.expand_dims(img_array, axis=0)  # Expande a (1, 128, 128, 3)\n",
    "    return img_array\n"
   ]
  },
  {
   "cell_type": "markdown",
   "id": "e2ea4bdb-dd32-4f53-b1bd-8239657748b1",
   "metadata": {},
   "source": [
    "# 11. Predicción y obtención del nombre de la clase"
   ]
  },
  {
   "cell_type": "code",
   "execution_count": 18,
   "id": "e26d53ec-e4a4-497d-afbf-9daf011440ad",
   "metadata": {},
   "outputs": [
    {
     "name": "stdout",
     "output_type": "stream",
     "text": [
      "\u001b[1m1/1\u001b[0m \u001b[32m━━━━━━━━━━━━━━━━━━━━\u001b[0m\u001b[37m\u001b[0m \u001b[1m0s\u001b[0m 110ms/step\n",
      "Especie predicha: culex, Confianza: 0.69\n"
     ]
    }
   ],
   "source": [
    "# Ruta de la imagen que deseas evaluar\n",
    "img_path = data['image_path'].iloc[0]  # Ejemplo con la primera imagen de tu DataFrame\n",
    "\n",
    "# Preprocesar la imagen\n",
    "img_array = preprocess_image(img_path)\n",
    "\n",
    "# Realizar la predicción\n",
    "predictions = model.predict(img_array)\n",
    "\n",
    "# Obtener la clase predicha\n",
    "predicted_class = np.argmax(predictions, axis=1)[0]\n",
    "confidence = np.max(predictions)\n",
    "\n",
    "# Obtener el nombre de la especie predicha usando el diccionario\n",
    "predicted_species = class_names[predicted_class]\n",
    "\n",
    "# Imprimir resultados\n",
    "print(f'Especie predicha: {predicted_species}, Confianza: {confidence:.2f}')\n"
   ]
  },
  {
   "cell_type": "markdown",
   "id": "31471290-257f-4603-9c3a-273b4f64196b",
   "metadata": {},
   "source": [
    "Aquí se realiza una predicción para una imagen y se obtiene el nombre de la especie y el nivel de confianza."
   ]
  },
  {
   "cell_type": "markdown",
   "id": "0ef8fdb7-9588-4e1b-85d9-f34255c450b8",
   "metadata": {},
   "source": [
    "# 12. Explicación con SHAP"
   ]
  },
  {
   "cell_type": "code",
   "execution_count": 19,
   "id": "ff091a48-4653-4956-ae93-f08e14540aa3",
   "metadata": {},
   "outputs": [
    {
     "name": "stderr",
     "output_type": "stream",
     "text": [
      "WARNING:absl:Compiled the loaded model, but the compiled metrics have yet to be built. `model.compile_metrics` will be empty until you train or evaluate the model.\n",
      "C:\\Python\\Python312\\Lib\\site-packages\\shap\\explainers\\_deep\\deep_tf.py:99: UserWarning: Your TensorFlow version is newer than 2.4.0 and so graph support has been removed in eager mode and some static graphs may not be supported. See PR #1483 for discussion.\n",
      "  warnings.warn(\"Your TensorFlow version is newer than 2.4.0 and so graph support has been removed in eager mode and some static graphs may not be supported. See PR #1483 for discussion.\")\n"
     ]
    },
    {
     "name": "stdout",
     "output_type": "stream",
     "text": [
      "WARNING:tensorflow:5 out of the last 5 calls to <function TFDeep.phi_symbolic.<locals>.grad_graph at 0x0000019B4A178720> triggered tf.function retracing. Tracing is expensive and the excessive number of tracings could be due to (1) creating @tf.function repeatedly in a loop, (2) passing tensors with different shapes, (3) passing Python objects instead of tensors. For (1), please define your @tf.function outside of the loop. For (2), @tf.function has reduce_retracing=True option that can avoid unnecessary retracing. For (3), please refer to https://www.tensorflow.org/guide/function#controlling_retracing and https://www.tensorflow.org/api_docs/python/tf/function for  more details.\n"
     ]
    },
    {
     "name": "stderr",
     "output_type": "stream",
     "text": [
      "WARNING:tensorflow:5 out of the last 5 calls to <function TFDeep.phi_symbolic.<locals>.grad_graph at 0x0000019B4A178720> triggered tf.function retracing. Tracing is expensive and the excessive number of tracings could be due to (1) creating @tf.function repeatedly in a loop, (2) passing tensors with different shapes, (3) passing Python objects instead of tensors. For (1), please define your @tf.function outside of the loop. For (2), @tf.function has reduce_retracing=True option that can avoid unnecessary retracing. For (3), please refer to https://www.tensorflow.org/guide/function#controlling_retracing and https://www.tensorflow.org/api_docs/python/tf/function for  more details.\n"
     ]
    },
    {
     "name": "stdout",
     "output_type": "stream",
     "text": [
      "WARNING:tensorflow:6 out of the last 6 calls to <function TFDeep.phi_symbolic.<locals>.grad_graph at 0x0000019B4A0DF920> triggered tf.function retracing. Tracing is expensive and the excessive number of tracings could be due to (1) creating @tf.function repeatedly in a loop, (2) passing tensors with different shapes, (3) passing Python objects instead of tensors. For (1), please define your @tf.function outside of the loop. For (2), @tf.function has reduce_retracing=True option that can avoid unnecessary retracing. For (3), please refer to https://www.tensorflow.org/guide/function#controlling_retracing and https://www.tensorflow.org/api_docs/python/tf/function for  more details.\n"
     ]
    },
    {
     "name": "stderr",
     "output_type": "stream",
     "text": [
      "WARNING:tensorflow:6 out of the last 6 calls to <function TFDeep.phi_symbolic.<locals>.grad_graph at 0x0000019B4A0DF920> triggered tf.function retracing. Tracing is expensive and the excessive number of tracings could be due to (1) creating @tf.function repeatedly in a loop, (2) passing tensors with different shapes, (3) passing Python objects instead of tensors. For (1), please define your @tf.function outside of the loop. For (2), @tf.function has reduce_retracing=True option that can avoid unnecessary retracing. For (3), please refer to https://www.tensorflow.org/guide/function#controlling_retracing and https://www.tensorflow.org/api_docs/python/tf/function for  more details.\n",
      "WARNING:matplotlib.image:Clipping input data to the valid range for imshow with RGB data ([0..1] for floats or [0..255] for integers). Got range [-9.793438948690891e-09..6.7229848355054855e-09].\n"
     ]
    },
    {
     "data": {
      "text/plain": [
       "<Figure size 1000x1000 with 0 Axes>"
      ]
     },
     "metadata": {},
     "output_type": "display_data"
    },
    {
     "data": {
      "image/png": "[encoded data removed]",
      "text/plain": [
       "<Figure size 600x500 with 3 Axes>"
      ]
     },
     "metadata": {},
     "output_type": "display_data"
    }
   ],
   "source": [
    "# Cargar el modelo guardado (en caso de que no esté en memoria)\n",
    "model = tf.keras.models.load_model(\"modelo_mosquitos.h5\")\n",
    "\n",
    "# Cargar una muestra de imágenes para crear un fondo para SHAP\n",
    "sample_images = np.array([preprocess_image(img_path) for img_path in data['image_path'].sample(100)])\n",
    "sample_images = np.squeeze(sample_images, axis=1)  # Eliminar la dimensión extra\n",
    "\n",
    "\n",
    "# Crear el explicador SHAP\n",
    "explainer = shap.DeepExplainer(model, sample_images)\n",
    "\n",
    "# Seleccionar una imagen de prueba para explicar\n",
    "img_to_explain = preprocess_image(img_path)\n",
    "shap_values = explainer.shap_values(img_to_explain)\n",
    "\n",
    "# Visualizar la explicación para la clase predicha\n",
    "plt.figure(figsize=(10, 10))\n",
    "shap.image_plot(shap_values, img_to_explain)\n"
   ]
  },
  {
   "cell_type": "code",
   "execution_count": null,
   "id": "1213418d-3e60-4405-829d-a36d5ca08947",
   "metadata": {},
   "outputs": [],
   "source": []
  }
 ],
 "metadata": {
  "kernelspec": {
   "display_name": "Python 3 (ipykernel)",
   "language": "python",
   "name": "python3"
  },
  "language_info": {
   "codemirror_mode": {
    "name": "ipython",
    "version": 3
   },
   "file_extension": ".py",
   "mimetype": "text/x-python",
   "name": "python",
   "nbconvert_exporter": "python",
   "pygments_lexer": "ipython3",
   "version": "3.12.6"
  }
 },
 "nbformat": 4,
 "nbformat_minor": 5
}
